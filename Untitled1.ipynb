{
  "nbformat": 4,
  "nbformat_minor": 0,
  "metadata": {
    "colab": {
      "name": "Untitled1.ipynb",
      "provenance": [],
      "toc_visible": true,
      "include_colab_link": true
    },
    "kernelspec": {
      "name": "python2",
      "display_name": "Python 2"
    }
  },
  "cells": [
    {
      "cell_type": "markdown",
      "metadata": {
        "id": "view-in-github",
        "colab_type": "text"
      },
      "source": [
        "<a href=\"https://colab.research.google.com/github/Williamjamel/Status/blob/main/Untitled1.ipynb\" target=\"_parent\"><img src=\"https://colab.research.google.com/assets/colab-badge.svg\" alt=\"Open In Colab\"/></a>"
      ]
    },
    {
      "metadata": {
        "id": "LtmMnLUG0U6L"
      },
      "cell_type": "code",
      "source": [],
      "execution_count": null,
      "outputs": []
    },
    {
      "metadata": {
        "id": "iH1oEngB02Zv"
      },
      "cell_type": "code",
      "source": [
        "!pip install --upgrade -q gspread"
      ],
      "execution_count": null,
      "outputs": []
    },
    {
      "metadata": {
        "id": "XKxzbrsy1Ulk"
      },
      "cell_type": "code",
      "source": [
        "!pip install --upgrade -q gspread"
      ],
      "execution_count": null,
      "outputs": []
    },
    {
      "metadata": {
        "id": "6UbkNzJn1Um3"
      },
      "cell_type": "code",
      "source": [
        "import time\n",
        "\n",
        "time.sleep(1)\n",
        "\n",
        "lyrics = [\n",
        "    [\"จำได้มั้ยในวัน\", 2],\n",
        "    [\"ที่รักเรานั้นหอมหวาน\", 3],\n",
        "    [\"นึกถึงคราเรา\", 1.5],\n",
        "    [\"สองคนได้เคยตกหลุมรัก\", 3],\n",
        "    [\"Feeling like Day One\", 1.5],\n",
        "    [\"ฉันยังคงคิดถึง Day One\", 2.5],\n",
        "    [\"วันที่เราทั้งสองมีกัน\", 5]\n",
        "]\n",
        "\n",
        "for line in lyrics:\n",
        "    delay = round(line[1] / len(line[0]), 2)\n",
        "    for c in line[0]:\n",
        "        print(c, end=\"\")\n",
        "        time.sleep(delay)\n",
        "    print(\"\\n\")\n"
      ],
      "execution_count": 1,
      "outputs": []
    }
  ]
}